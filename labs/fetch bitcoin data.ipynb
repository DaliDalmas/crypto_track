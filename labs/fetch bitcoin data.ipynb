{
 "cells": [
  {
   "cell_type": "code",
   "execution_count": 142,
   "id": "6f308a97-bc83-425a-8cc4-cbaaa6e32002",
   "metadata": {},
   "outputs": [],
   "source": [
    "from bs4 import BeautifulSoup\n",
    "import requests as rq\n",
    "import time\n",
    "import pandas as pd"
   ]
  },
  {
   "cell_type": "code",
   "execution_count": 149,
   "id": "e3346753-35d0-4b14-bdee-40160753d9c7",
   "metadata": {},
   "outputs": [],
   "source": [
    "def get_data():\n",
    "    page=1\n",
    "    all_coins = {}\n",
    "    while True:\n",
    "        web_page = rq.get(f'https://coinmarketcap.com/?page={page}').content\n",
    "        soup = BeautifulSoup(web_page)\n",
    "        the_row = soup.find_all(\"tr\")[1:]\n",
    "        if len(the_row)==0:\n",
    "            break\n",
    "        for a_row in the_row:\n",
    "            try:\n",
    "                coin_name_tags = a_row.find_all('p',class_='iworPT')\n",
    "                if len(coin_name_tags)>0:\n",
    "                    coin_name = coin_name_tags[0].getText()\n",
    "                else:\n",
    "                    coin_name = a_row.find_all('span')[3].getText()\n",
    "            except Exception as e:\n",
    "                print(e)\n",
    "\n",
    "            try:\n",
    "                coin_value_tags = a_row.find_all('a',class_='cmc-link')\n",
    "                if len(coin_value_tags)==4:\n",
    "                    coin_value = a_row.find_all('a',class_='cmc-link')[1].find('span').getText()\n",
    "                elif len(the_row)==1:\n",
    "                    coin_value = a_row.find_all('span')[-2].getText()\n",
    "            except Exception as e:\n",
    "                print(e)\n",
    "            all_coins[coin_name] = [coin_value.replace('$','')]\n",
    "        page += 1\n",
    "        todays_data = pd.DataFrame(all_coins).T.reset_index()\n",
    "        todays_data.columns = ['coin_name','coin_value']\n",
    "        todays_data.to_csv('tadays_coin.csv',index=False)"
   ]
  },
  {
   "cell_type": "code",
   "execution_count": 150,
   "id": "fc26db16-1f60-4d2a-8d67-e1301b46cd03",
   "metadata": {},
   "outputs": [],
   "source": [
    "get_data()"
   ]
  },
  {
   "cell_type": "code",
   "execution_count": null,
   "id": "fa91267c-f5d2-454b-884e-0eb23f2eaabf",
   "metadata": {},
   "outputs": [],
   "source": []
  }
 ],
 "metadata": {
  "kernelspec": {
   "display_name": "Python 3 (ipykernel)",
   "language": "python",
   "name": "python3"
  },
  "language_info": {
   "codemirror_mode": {
    "name": "ipython",
    "version": 3
   },
   "file_extension": ".py",
   "mimetype": "text/x-python",
   "name": "python",
   "nbconvert_exporter": "python",
   "pygments_lexer": "ipython3",
   "version": "3.9.9"
  }
 },
 "nbformat": 4,
 "nbformat_minor": 5
}
